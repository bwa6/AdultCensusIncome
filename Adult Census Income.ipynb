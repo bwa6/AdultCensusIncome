{
 "cells": [
  {
   "cell_type": "markdown",
   "metadata": {},
   "source": [
    "# Adult Census - Income Prediction Using ML"
   ]
  },
  {
   "cell_type": "markdown",
   "metadata": {},
   "source": [
    "This is my first data science project. I will analyze the adult census data extracted from the 1994 Census Bereau database by Ronny Kohavi and Barry Becker (https://www.kaggle.com/uciml/adult-census-income). This dataset looks at several variables to predict whether a person had an annual income over $50k. I will perform the following on this dataset:\n",
    "- check for missing data and either 1) remove rows/columns containing missing data or 2) impute missing values\n",
    "- merge related categories to reduce feature size\n",
    "- scale numeric data and one-hot-encode categorical data\n",
    "- test K-Nearest Neighbors (KNN) model with a gridsearchCV to optimize the model\n",
    "- test support vector machines (SVM) if the KNN model is inaccurate\n",
    "- evaluate and visualize the final model"
   ]
  },
  {
   "cell_type": "code",
   "execution_count": 97,
   "metadata": {},
   "outputs": [],
   "source": [
    "%matplotlib inline\n",
    "import numpy as np\n",
    "import pandas as pd\n",
    "import matplotlib.pyplot as plt"
   ]
  },
  {
   "cell_type": "code",
   "execution_count": 98,
   "metadata": {},
   "outputs": [],
   "source": [
    "# directory for the dataset on my computer\n",
    "filename = 'datasets/adult.csv'\n",
    "adult_df = pd.read_csv(filename)"
   ]
  },
  {
   "cell_type": "markdown",
   "metadata": {},
   "source": [
    "I will visually inspect the first few rows of the data frame."
   ]
  },
  {
   "cell_type": "code",
   "execution_count": 99,
   "metadata": {},
   "outputs": [
    {
     "data": {
      "text/html": [
       "<div>\n",
       "<style scoped>\n",
       "    .dataframe tbody tr th:only-of-type {\n",
       "        vertical-align: middle;\n",
       "    }\n",
       "\n",
       "    .dataframe tbody tr th {\n",
       "        vertical-align: top;\n",
       "    }\n",
       "\n",
       "    .dataframe thead th {\n",
       "        text-align: right;\n",
       "    }\n",
       "</style>\n",
       "<table border=\"1\" class=\"dataframe\">\n",
       "  <thead>\n",
       "    <tr style=\"text-align: right;\">\n",
       "      <th></th>\n",
       "      <th>age</th>\n",
       "      <th>workclass</th>\n",
       "      <th>fnlwgt</th>\n",
       "      <th>education</th>\n",
       "      <th>education.num</th>\n",
       "      <th>marital.status</th>\n",
       "      <th>occupation</th>\n",
       "      <th>relationship</th>\n",
       "      <th>race</th>\n",
       "      <th>sex</th>\n",
       "      <th>capital.gain</th>\n",
       "      <th>capital.loss</th>\n",
       "      <th>hours.per.week</th>\n",
       "      <th>native.country</th>\n",
       "      <th>income</th>\n",
       "    </tr>\n",
       "  </thead>\n",
       "  <tbody>\n",
       "    <tr>\n",
       "      <th>0</th>\n",
       "      <td>90</td>\n",
       "      <td>?</td>\n",
       "      <td>77053</td>\n",
       "      <td>HS-grad</td>\n",
       "      <td>9</td>\n",
       "      <td>Widowed</td>\n",
       "      <td>?</td>\n",
       "      <td>Not-in-family</td>\n",
       "      <td>White</td>\n",
       "      <td>Female</td>\n",
       "      <td>0</td>\n",
       "      <td>4356</td>\n",
       "      <td>40</td>\n",
       "      <td>United-States</td>\n",
       "      <td>&lt;=50K</td>\n",
       "    </tr>\n",
       "    <tr>\n",
       "      <th>1</th>\n",
       "      <td>82</td>\n",
       "      <td>Private</td>\n",
       "      <td>132870</td>\n",
       "      <td>HS-grad</td>\n",
       "      <td>9</td>\n",
       "      <td>Widowed</td>\n",
       "      <td>Exec-managerial</td>\n",
       "      <td>Not-in-family</td>\n",
       "      <td>White</td>\n",
       "      <td>Female</td>\n",
       "      <td>0</td>\n",
       "      <td>4356</td>\n",
       "      <td>18</td>\n",
       "      <td>United-States</td>\n",
       "      <td>&lt;=50K</td>\n",
       "    </tr>\n",
       "    <tr>\n",
       "      <th>2</th>\n",
       "      <td>66</td>\n",
       "      <td>?</td>\n",
       "      <td>186061</td>\n",
       "      <td>Some-college</td>\n",
       "      <td>10</td>\n",
       "      <td>Widowed</td>\n",
       "      <td>?</td>\n",
       "      <td>Unmarried</td>\n",
       "      <td>Black</td>\n",
       "      <td>Female</td>\n",
       "      <td>0</td>\n",
       "      <td>4356</td>\n",
       "      <td>40</td>\n",
       "      <td>United-States</td>\n",
       "      <td>&lt;=50K</td>\n",
       "    </tr>\n",
       "    <tr>\n",
       "      <th>3</th>\n",
       "      <td>54</td>\n",
       "      <td>Private</td>\n",
       "      <td>140359</td>\n",
       "      <td>7th-8th</td>\n",
       "      <td>4</td>\n",
       "      <td>Divorced</td>\n",
       "      <td>Machine-op-inspct</td>\n",
       "      <td>Unmarried</td>\n",
       "      <td>White</td>\n",
       "      <td>Female</td>\n",
       "      <td>0</td>\n",
       "      <td>3900</td>\n",
       "      <td>40</td>\n",
       "      <td>United-States</td>\n",
       "      <td>&lt;=50K</td>\n",
       "    </tr>\n",
       "    <tr>\n",
       "      <th>4</th>\n",
       "      <td>41</td>\n",
       "      <td>Private</td>\n",
       "      <td>264663</td>\n",
       "      <td>Some-college</td>\n",
       "      <td>10</td>\n",
       "      <td>Separated</td>\n",
       "      <td>Prof-specialty</td>\n",
       "      <td>Own-child</td>\n",
       "      <td>White</td>\n",
       "      <td>Female</td>\n",
       "      <td>0</td>\n",
       "      <td>3900</td>\n",
       "      <td>40</td>\n",
       "      <td>United-States</td>\n",
       "      <td>&lt;=50K</td>\n",
       "    </tr>\n",
       "  </tbody>\n",
       "</table>\n",
       "</div>"
      ],
      "text/plain": [
       "   age workclass  fnlwgt     education  education.num marital.status  \\\n",
       "0   90         ?   77053       HS-grad              9        Widowed   \n",
       "1   82   Private  132870       HS-grad              9        Widowed   \n",
       "2   66         ?  186061  Some-college             10        Widowed   \n",
       "3   54   Private  140359       7th-8th              4       Divorced   \n",
       "4   41   Private  264663  Some-college             10      Separated   \n",
       "\n",
       "          occupation   relationship   race     sex  capital.gain  \\\n",
       "0                  ?  Not-in-family  White  Female             0   \n",
       "1    Exec-managerial  Not-in-family  White  Female             0   \n",
       "2                  ?      Unmarried  Black  Female             0   \n",
       "3  Machine-op-inspct      Unmarried  White  Female             0   \n",
       "4     Prof-specialty      Own-child  White  Female             0   \n",
       "\n",
       "   capital.loss  hours.per.week native.country income  \n",
       "0          4356              40  United-States  <=50K  \n",
       "1          4356              18  United-States  <=50K  \n",
       "2          4356              40  United-States  <=50K  \n",
       "3          3900              40  United-States  <=50K  \n",
       "4          3900              40  United-States  <=50K  "
      ]
     },
     "execution_count": 99,
     "metadata": {},
     "output_type": "execute_result"
    }
   ],
   "source": [
    "adult_df.head()"
   ]
  },
  {
   "cell_type": "markdown",
   "metadata": {},
   "source": [
    "The missing values in this dataset are all represented as '?' so I will replace with NaN."
   ]
  },
  {
   "cell_type": "code",
   "execution_count": 100,
   "metadata": {},
   "outputs": [],
   "source": [
    "adult_df.where(adult_df!='?',other=np.nan,inplace=True)"
   ]
  },
  {
   "cell_type": "markdown",
   "metadata": {},
   "source": [
    "There are 1836 rows missing more than one value.  This is a tiny fraction of the total data so I will remove these values."
   ]
  },
  {
   "cell_type": "code",
   "execution_count": 101,
   "metadata": {},
   "outputs": [
    {
     "name": "stdout",
     "output_type": "stream",
     "text": [
      "1836\n"
     ]
    }
   ],
   "source": [
    "# Remove Samples with multiple NaN values\n",
    "mask = adult_df.isnull().sum(axis=1) > 1\n",
    "print(mask.sum()) # 1836 samples\n",
    "idx = np.where(mask==True)[0]\n",
    "idx = adult_df.index[idx]\n",
    "adult_df.drop(index=idx,inplace=True)"
   ]
  },
  {
   "cell_type": "markdown",
   "metadata": {},
   "source": [
    "While inspecting the data, I identified 7 rows where the occupation is NaN, but for these rows, workclass = never-worked, which means that these people do not have a job and do not have an income. Therefore, there is no point in using these samples in the model, so I will remove these rows."
   ]
  },
  {
   "cell_type": "code",
   "execution_count": 102,
   "metadata": {},
   "outputs": [],
   "source": [
    "# 7 people with occupation = NaN do not have a job (workclass = Never-worked) so will drop these\n",
    "mask = adult_df.occupation.isnull()\n",
    "idx = np.where(mask==True)[0]\n",
    "idx = adult_df.index[idx]\n",
    "adult_df.drop(index=idx,inplace=True)"
   ]
  },
  {
   "cell_type": "markdown",
   "metadata": {},
   "source": [
    "The biggest chunk of missing data is in the native country column.  There are multiple methods to remove the missing data as shown below.  Ultimately, I decided that there are too many countries to consider, so it is better to consider just domestic vs. foreign.  The overwhelming majority of rows are domestic so I imputed the missing data as domestic."
   ]
  },
  {
   "cell_type": "code",
   "execution_count": 103,
   "metadata": {},
   "outputs": [],
   "source": [
    "# Hundreds of people with unknown native country - multiple options to try\n",
    "\n",
    "# delete samples from dataset\n",
    "def delete_country_Nan():\n",
    "    mask = adult_df['native.country'].isnull()\n",
    "    idx = np.where(mask==True)[0]\n",
    "    idx = adult_df.index[idx]\n",
    "    adult_df.drop(index=idx,inplace=True)\n",
    "\n",
    "# try most common value: United-States\n",
    "def country_NaN_USA():\n",
    "    mask = adult_df['native.country'].isnull()\n",
    "    adult_df['native.country'] = np.where(mask,'United-States',adult_df['native.country'])\n",
    "\n",
    "# convert native.country variable to domestic vs. foreign\n",
    "# guess determines whether NaN values should be converted to domestic or foreign (guess = 'United-States' vs. 'foreign')\n",
    "def country_DvF(guess):\n",
    "    mask_null = adult_df['native.country'].isnull()\n",
    "    adult_df['native.country'] = np.where(mask_null,guess,adult_df['native.country'])\n",
    "    \n",
    "    mask = adult_df['native.country'] == 'United-States'\n",
    "    adult_df['native.country'] = np.where(mask,'domestic','foreign')\n",
    "    \n",
    "guess = 'United-States'\n",
    "country_DvF(guess)"
   ]
  },
  {
   "cell_type": "markdown",
   "metadata": {},
   "source": [
    "## Feature Descriptions\n",
    "Below is a list of the features with a description to determine how each column should be modified.\n",
    "- Age: numeric\n",
    "- workclass: categorical with 7 categories\n",
    "- fnlwgt: numeric\n",
    "- education: categorical with 16 categories (need to reduce)\n",
    "- education.num: numeric (potentially redundant with education but can leave it anyway)\n",
    "- marital.status: categorical with 7 categories (need to reduce)\n",
    "- occupation: categorical with 14 categories (This is potentially the most important feature so need stratification of test-train split)\n",
    "- relationship: categorical with 7 categories (redundant with marital.status so should delete)\n",
    "- race: categorical with 5 categories\n",
    "- sex: categorical with 2 categories\n",
    "- capital.gain: numeric (highly skewed so should be converted to category)\n",
    "- capital.loss: numeric (highly skewed so should be converted to category)\n",
    "- hours.per.week: numeric\n",
    "- native.country: categorical (converted to domestic vs. foreign)\n",
    "- income: categorical with 2 categories"
   ]
  },
  {
   "cell_type": "markdown",
   "metadata": {},
   "source": [
    "## Data Modification\n",
    "Below is a list of how I will modify the data\n",
    "- Age: N/A\n",
    "- Workclass: drop 14 samples with \"without-pay\" since there are few samples and this obviously leads to low income\n",
    "- fnlwgt: N/A\n",
    "- education: merge into: \n",
    "    - Less than HS-grad (many of these are likely to lead to similar outcomes)\n",
    "    - HS-grad + some college (likely little difference between these)\n",
    "    - Assoc voc+adm (likely little difference between these)\n",
    "    - Bachelors\n",
    "    - Masters\n",
    "    - Doctorate\n",
    "    - Prof-school\n",
    "- education.num: N/A\n",
    "- marital.status: merge into:\n",
    "    - civ + absent + AF (likely little difference between these)\n",
    "    - never-married\n",
    "    - divorced + separated (likely little difference between these)\n",
    "    - widowed\n",
    "- occupation: N/A\n",
    "- relationship: delete (too similar to marital.status)\n",
    "- race: N/A\n",
    "- sex: N/A\n",
    "- capital.gain: merge into categories:\n",
    "    - 0\n",
    "    - (>0 and < 10000)\n",
    "    - (> 10000)\n",
    "- capital.oss: merge into categories:\n",
    "    - 0\n",
    "    - (>0)\n",
    "- hours.per.week: N/A\n",
    "- native.country: make domestic vs. foreign\n",
    "- income: N/A"
   ]
  },
  {
   "cell_type": "code",
   "execution_count": 104,
   "metadata": {},
   "outputs": [],
   "source": [
    "# drop workclass = without-pay\n",
    "def drop_withoutpay(adult_df):\n",
    "    mask = adult_df.workclass == 'Without-pay'\n",
    "    idx = np.where(mask==True)[0]\n",
    "    idx = adult_df.index[idx]\n",
    "    adult_df.drop(index=idx,inplace=True)\n",
    "\n",
    "# Merge education categories: ('HS','Assoc','Less_HS','Bachelors','Masters','Prof-School','Doctorate')\n",
    "def merge_education(adult_df):\n",
    "    mask1 = adult_df.education == 'HS-grad'\n",
    "    mask2 = adult_df.education == 'Some-college'\n",
    "    \n",
    "    mask3 = adult_df.education == 'Assoc-voc'\n",
    "    mask4 = adult_df.education == 'Assoc-acdm'\n",
    "    \n",
    "    mask5 = adult_df.education == '11th'\n",
    "    mask6 = adult_df.education == '10th'\n",
    "    mask7 = adult_df.education == '7th-8th'\n",
    "    mask8 = adult_df.education == '9th'\n",
    "    mask9 = adult_df.education == '12th'\n",
    "    mask10 = adult_df.education == '5th-6th'\n",
    "    mask11 = adult_df.education == '1st-4th'\n",
    "    mask12 = adult_df.education == 'Preschool'\n",
    "    \n",
    "    adult_df.education = np.where(mask1|mask2,'HS',adult_df.education)\n",
    "    adult_df.education = np.where(mask3|mask4,'Assoc',adult_df.education)\n",
    "    adult_df.education = np.where(mask5|mask6|mask7|mask8|mask9|mask10|mask11|mask12,'Less_HS',adult_df.education)\n",
    "    \n",
    "# Merge marital status: ('Married','Never-married','Sep_Div','Widowed')\n",
    "def merge_marital(adult_df):\n",
    "    mask1 = adult_df['marital.status'] == 'Married-civ-spouse'\n",
    "    mask2 = adult_df['marital.status'] == 'Married-spouse-absent'\n",
    "    mask3 = adult_df['marital.status'] == 'Married-AF-spouse'\n",
    "    \n",
    "    mask4 = adult_df['marital.status'] == 'Divorced'\n",
    "    mask5 = adult_df['marital.status'] == 'Separated'\n",
    "    \n",
    "    adult_df['marital.status'] = np.where(mask1|mask2|mask3,'Married',adult_df['marital.status'])\n",
    "    adult_df['marital.status'] = np.where(mask4|mask5,'Sep_Div',adult_df['marital.status'])\n",
    "    \n",
    "# delete redundant relationship feature\n",
    "def delete_relationship(adult_df):\n",
    "    adult_df.drop(columns='relationship',inplace=True)\n",
    "    \n",
    "# merge capital gains into 3 categories: 0 (0), <10k (1), >10k (2)\n",
    "def cap_gain_cat(adult_df,cutoff):\n",
    "    mask1 = adult_df['capital.gain'] == 0\n",
    "    mask2 = adult_df['capital.gain'] < cutoff\n",
    "    mask3 = adult_df['capital.gain'] >= cutoff\n",
    "    Capital_gain_cat = 0*mask1 + 1*(mask2 & ~mask1) + 2*mask3 \n",
    "    \n",
    "    adult_df['capital.gain'] = Capital_gain_cat\n",
    "    adult_df = adult_df.astype({'capital.gain':'object'})\n",
    "    \n",
    "# merge capital losses into 2 categories 0 (0), >0 (1)\n",
    "def cap_loss_cat(adult_df):\n",
    "    mask = adult_df['capital.loss'] == 0\n",
    "    adult_df['capital.loss'] = np.where(mask,0,1)\n",
    "    adult_df = adult_df.astype({'capital.loss':'object'})\n",
    "    \n",
    "# convert native countries to foreign vs. domestic (Note: only necessary if didn't already use country_DvF function)\n",
    "def country_cat(adult_df):\n",
    "    mask = adult_df['native.country'] == 'United-States'\n",
    "    adult_df['native.country'] = np.where(mask,'domestic','foreign')"
   ]
  },
  {
   "cell_type": "code",
   "execution_count": 105,
   "metadata": {},
   "outputs": [],
   "source": [
    "drop_withoutpay(adult_df)\n",
    "merge_education(adult_df)\n",
    "merge_marital(adult_df)\n",
    "delete_relationship(adult_df)\n",
    "cap_gain_cat(adult_df, 10000)\n",
    "cap_loss_cat(adult_df)"
   ]
  },
  {
   "cell_type": "markdown",
   "metadata": {},
   "source": [
    "Check the first few rows to make sure the modifications worked."
   ]
  },
  {
   "cell_type": "code",
   "execution_count": 106,
   "metadata": {},
   "outputs": [
    {
     "data": {
      "text/html": [
       "<div>\n",
       "<style scoped>\n",
       "    .dataframe tbody tr th:only-of-type {\n",
       "        vertical-align: middle;\n",
       "    }\n",
       "\n",
       "    .dataframe tbody tr th {\n",
       "        vertical-align: top;\n",
       "    }\n",
       "\n",
       "    .dataframe thead th {\n",
       "        text-align: right;\n",
       "    }\n",
       "</style>\n",
       "<table border=\"1\" class=\"dataframe\">\n",
       "  <thead>\n",
       "    <tr style=\"text-align: right;\">\n",
       "      <th></th>\n",
       "      <th>age</th>\n",
       "      <th>workclass</th>\n",
       "      <th>fnlwgt</th>\n",
       "      <th>education</th>\n",
       "      <th>education.num</th>\n",
       "      <th>marital.status</th>\n",
       "      <th>occupation</th>\n",
       "      <th>race</th>\n",
       "      <th>sex</th>\n",
       "      <th>capital.gain</th>\n",
       "      <th>capital.loss</th>\n",
       "      <th>hours.per.week</th>\n",
       "      <th>native.country</th>\n",
       "      <th>income</th>\n",
       "    </tr>\n",
       "  </thead>\n",
       "  <tbody>\n",
       "    <tr>\n",
       "      <th>1</th>\n",
       "      <td>82</td>\n",
       "      <td>Private</td>\n",
       "      <td>132870</td>\n",
       "      <td>HS</td>\n",
       "      <td>9</td>\n",
       "      <td>Widowed</td>\n",
       "      <td>Exec-managerial</td>\n",
       "      <td>White</td>\n",
       "      <td>Female</td>\n",
       "      <td>0</td>\n",
       "      <td>1</td>\n",
       "      <td>18</td>\n",
       "      <td>domestic</td>\n",
       "      <td>&lt;=50K</td>\n",
       "    </tr>\n",
       "    <tr>\n",
       "      <th>3</th>\n",
       "      <td>54</td>\n",
       "      <td>Private</td>\n",
       "      <td>140359</td>\n",
       "      <td>Less_HS</td>\n",
       "      <td>4</td>\n",
       "      <td>Sep_Div</td>\n",
       "      <td>Machine-op-inspct</td>\n",
       "      <td>White</td>\n",
       "      <td>Female</td>\n",
       "      <td>0</td>\n",
       "      <td>1</td>\n",
       "      <td>40</td>\n",
       "      <td>domestic</td>\n",
       "      <td>&lt;=50K</td>\n",
       "    </tr>\n",
       "    <tr>\n",
       "      <th>4</th>\n",
       "      <td>41</td>\n",
       "      <td>Private</td>\n",
       "      <td>264663</td>\n",
       "      <td>HS</td>\n",
       "      <td>10</td>\n",
       "      <td>Sep_Div</td>\n",
       "      <td>Prof-specialty</td>\n",
       "      <td>White</td>\n",
       "      <td>Female</td>\n",
       "      <td>0</td>\n",
       "      <td>1</td>\n",
       "      <td>40</td>\n",
       "      <td>domestic</td>\n",
       "      <td>&lt;=50K</td>\n",
       "    </tr>\n",
       "    <tr>\n",
       "      <th>5</th>\n",
       "      <td>34</td>\n",
       "      <td>Private</td>\n",
       "      <td>216864</td>\n",
       "      <td>HS</td>\n",
       "      <td>9</td>\n",
       "      <td>Sep_Div</td>\n",
       "      <td>Other-service</td>\n",
       "      <td>White</td>\n",
       "      <td>Female</td>\n",
       "      <td>0</td>\n",
       "      <td>1</td>\n",
       "      <td>45</td>\n",
       "      <td>domestic</td>\n",
       "      <td>&lt;=50K</td>\n",
       "    </tr>\n",
       "    <tr>\n",
       "      <th>6</th>\n",
       "      <td>38</td>\n",
       "      <td>Private</td>\n",
       "      <td>150601</td>\n",
       "      <td>Less_HS</td>\n",
       "      <td>6</td>\n",
       "      <td>Sep_Div</td>\n",
       "      <td>Adm-clerical</td>\n",
       "      <td>White</td>\n",
       "      <td>Male</td>\n",
       "      <td>0</td>\n",
       "      <td>1</td>\n",
       "      <td>40</td>\n",
       "      <td>domestic</td>\n",
       "      <td>&lt;=50K</td>\n",
       "    </tr>\n",
       "  </tbody>\n",
       "</table>\n",
       "</div>"
      ],
      "text/plain": [
       "   age workclass  fnlwgt education  education.num marital.status  \\\n",
       "1   82   Private  132870        HS              9        Widowed   \n",
       "3   54   Private  140359   Less_HS              4        Sep_Div   \n",
       "4   41   Private  264663        HS             10        Sep_Div   \n",
       "5   34   Private  216864        HS              9        Sep_Div   \n",
       "6   38   Private  150601   Less_HS              6        Sep_Div   \n",
       "\n",
       "          occupation   race     sex  capital.gain  capital.loss  \\\n",
       "1    Exec-managerial  White  Female             0             1   \n",
       "3  Machine-op-inspct  White  Female             0             1   \n",
       "4     Prof-specialty  White  Female             0             1   \n",
       "5      Other-service  White  Female             0             1   \n",
       "6       Adm-clerical  White    Male             0             1   \n",
       "\n",
       "   hours.per.week native.country income  \n",
       "1              18       domestic  <=50K  \n",
       "3              40       domestic  <=50K  \n",
       "4              40       domestic  <=50K  \n",
       "5              45       domestic  <=50K  \n",
       "6              40       domestic  <=50K  "
      ]
     },
     "execution_count": 106,
     "metadata": {},
     "output_type": "execute_result"
    }
   ],
   "source": [
    "adult_df.head()"
   ]
  },
  {
   "cell_type": "markdown",
   "metadata": {},
   "source": [
    "# Separate test from train data"
   ]
  },
  {
   "cell_type": "markdown",
   "metadata": {},
   "source": [
    "I need to one-hot-encode categorical data. For the columns with only 2 categories, I manually performed one-hot-encoding so that it wouldn't unnecessarily create two columns when one would work."
   ]
  },
  {
   "cell_type": "code",
   "execution_count": 107,
   "metadata": {},
   "outputs": [],
   "source": [
    "# <=50k (0) and >50k (1)\n",
    "mask = adult_df.income == '<=50K'\n",
    "adult_df.income = np.where(mask,0,1)\n",
    "\n",
    "# female (0) and male (1)\n",
    "mask = adult_df.sex == 'Female'\n",
    "adult_df.sex = np.where(mask,0,1)\n",
    "\n",
    "# domestic (0) and foreign (1)\n",
    "mask = adult_df['native.country'] == 'domestic'\n",
    "adult_df['native.country'] = np.where(mask,0,1)"
   ]
  },
  {
   "cell_type": "markdown",
   "metadata": {},
   "source": [
    "As mentioned above, I am making sure occupation is proportionately represented in both test and train data due to its potential importance to predicting income."
   ]
  },
  {
   "cell_type": "code",
   "execution_count": 108,
   "metadata": {},
   "outputs": [],
   "source": [
    "from sklearn.model_selection import StratifiedShuffleSplit\n",
    "\n",
    "# get a stratified test/train set based on occupation to make sure it is proportionately represented\n",
    "split = StratifiedShuffleSplit(n_splits=1,test_size=0.2)\n",
    "for train_index, test_index in split.split(adult_df,adult_df['occupation']):\n",
    "    train_idx = adult_df.index[train_index]\n",
    "    test_idx = adult_df.index[test_index]\n",
    "    strat_train_set = adult_df.loc[train_idx]\n",
    "    strat_test_set = adult_df.loc[test_idx]\n",
    "    \n",
    "y_train = strat_train_set['income']\n",
    "y_test = strat_test_set['income']\n",
    "X_train = strat_train_set.drop(columns='income')\n",
    "X_test = strat_test_set.drop(columns='income')"
   ]
  },
  {
   "cell_type": "markdown",
   "metadata": {},
   "source": [
    "### Scale numeric data and one-hot-encode categorical data with more than two values"
   ]
  },
  {
   "cell_type": "code",
   "execution_count": 109,
   "metadata": {},
   "outputs": [],
   "source": [
    "from sklearn.compose import ColumnTransformer\n",
    "from sklearn.preprocessing import StandardScaler\n",
    "from sklearn.preprocessing import OneHotEncoder\n",
    "\n",
    "num_features = ['age','fnlwgt','education.num','hours.per.week']\n",
    "# include native.country below if not converting to domestic/foreign\n",
    "cat_features = ['workclass','education','marital.status','occupation','race','capital.gain']\n",
    "\n",
    "full_pipeline = ColumnTransformer([\n",
    "    (\"num\", StandardScaler(), num_features), \n",
    "    (\"cat\", OneHotEncoder(), cat_features),\n",
    "])\n",
    "\n",
    "X_train_prepared = full_pipeline.fit_transform(X_train)"
   ]
  },
  {
   "cell_type": "markdown",
   "metadata": {},
   "source": [
    "# Test Models"
   ]
  },
  {
   "cell_type": "markdown",
   "metadata": {},
   "source": [
    "## KNN"
   ]
  },
  {
   "cell_type": "code",
   "execution_count": 110,
   "metadata": {},
   "outputs": [
    {
     "data": {
      "text/plain": [
       "KNeighborsClassifier()"
      ]
     },
     "execution_count": 110,
     "metadata": {},
     "output_type": "execute_result"
    }
   ],
   "source": [
    "from sklearn.neighbors import KNeighborsClassifier\n",
    "\n",
    "clf_knn = KNeighborsClassifier()\n",
    "clf_knn.fit(X_train_prepared,y_train)"
   ]
  },
  {
   "cell_type": "markdown",
   "metadata": {},
   "source": [
    "I measured the accuracy of the initial model."
   ]
  },
  {
   "cell_type": "code",
   "execution_count": 111,
   "metadata": {},
   "outputs": [
    {
     "data": {
      "text/plain": [
       "0.8221787982413288"
      ]
     },
     "execution_count": 111,
     "metadata": {},
     "output_type": "execute_result"
    }
   ],
   "source": [
    "X_test_prepared = full_pipeline.transform(X_test)\n",
    "clf_knn.score(X_test_prepared,y_test)"
   ]
  },
  {
   "cell_type": "markdown",
   "metadata": {},
   "source": [
    "I generated a confusion matrix and classification report to assess precision and recall"
   ]
  },
  {
   "cell_type": "code",
   "execution_count": 113,
   "metadata": {},
   "outputs": [
    {
     "data": {
      "text/plain": [
       "array([[16503,  1898],\n",
       "       [ 2518,  3644]])"
      ]
     },
     "execution_count": 113,
     "metadata": {},
     "output_type": "execute_result"
    }
   ],
   "source": [
    "from sklearn.model_selection import cross_val_predict\n",
    "y_train_pred = cross_val_predict(clf_knn, X_train_prepared, y_train, cv=10)\n",
    "\n",
    "from sklearn.metrics import confusion_matrix \n",
    "confusion_matrix(y_train, y_train_pred)"
   ]
  },
  {
   "cell_type": "code",
   "execution_count": 39,
   "metadata": {},
   "outputs": [
    {
     "name": "stdout",
     "output_type": "stream",
     "text": [
      "              precision    recall  f1-score   support\n",
      "\n",
      "           0       0.87      0.90      0.88     18478\n",
      "           1       0.65      0.59      0.62      6085\n",
      "\n",
      "    accuracy                           0.82     24563\n",
      "   macro avg       0.76      0.74      0.75     24563\n",
      "weighted avg       0.81      0.82      0.82     24563\n",
      "\n"
     ]
    }
   ],
   "source": [
    "from sklearn.metrics import classification_report\n",
    "print(classification_report(y_train, y_train_pred))"
   ]
  },
  {
   "cell_type": "markdown",
   "metadata": {},
   "source": [
    "# KNN - Grid Search"
   ]
  },
  {
   "cell_type": "markdown",
   "metadata": {},
   "source": [
    "To improve the model, I tested multiple hyperparameters in a grid search with cross-validation to identify an optimized model."
   ]
  },
  {
   "cell_type": "code",
   "execution_count": 61,
   "metadata": {},
   "outputs": [
    {
     "data": {
      "text/plain": [
       "{'n_neighbors': 15, 'p': 1}"
      ]
     },
     "execution_count": 61,
     "metadata": {},
     "output_type": "execute_result"
    }
   ],
   "source": [
    "from sklearn.model_selection import GridSearchCV\n",
    "\n",
    "# List different hyperparameters to try\n",
    "param_grid = [\n",
    "    {'n_neighbors': [3, 5, 10, 15], 'p': [1, 2]}\n",
    "]\n",
    "\n",
    "clf_knn = KNeighborsClassifier()\n",
    "grid_search = GridSearchCV(clf_knn, param_grid, cv=5, scoring='neg_mean_squared_error',\n",
    "                           return_train_score=True) \n",
    "grid_search.fit(X_train_prepared, y_train)\n",
    "grid_search.best_params_ # best is n_neighbors = 15, weights = uniform, p = 1"
   ]
  },
  {
   "cell_type": "markdown",
   "metadata": {},
   "source": [
    "Since, n_neighbors=15 was the best hyperparameter, I tested higher values to see if the model could be improved further."
   ]
  },
  {
   "cell_type": "code",
   "execution_count": 63,
   "metadata": {},
   "outputs": [
    {
     "data": {
      "text/plain": [
       "{'n_neighbors': 35, 'p': 1}"
      ]
     },
     "execution_count": 63,
     "metadata": {},
     "output_type": "execute_result"
    }
   ],
   "source": [
    "param_grid = [\n",
    "    {'n_neighbors': [15,25,35,45], 'p': [1]}\n",
    "]\n",
    "\n",
    "clf_knn = KNeighborsClassifier()\n",
    "grid_search = GridSearchCV(clf_knn, param_grid, cv=5, scoring='neg_mean_squared_error',\n",
    "                           return_train_score=True) \n",
    "grid_search.fit(X_train_prepared, y_train)\n",
    "grid_search.best_params_ # best is 35"
   ]
  },
  {
   "cell_type": "markdown",
   "metadata": {},
   "source": [
    "This model demonstrated the best hyperparameters are n_neighbors=35 and p=1.  Next, I inspected the scores of each combination of hyperparameters to determine how well the best hyperparameters improved the model."
   ]
  },
  {
   "cell_type": "code",
   "execution_count": 64,
   "metadata": {},
   "outputs": [
    {
     "name": "stdout",
     "output_type": "stream",
     "text": [
      "0.4090533067762343 {'n_neighbors': 15, 'p': 1}\n",
      "0.40760782739243406 {'n_neighbors': 25, 'p': 1}\n",
      "0.405906454271267 {'n_neighbors': 35, 'p': 1}\n",
      "0.4060568408715443 {'n_neighbors': 45, 'p': 1}\n"
     ]
    }
   ],
   "source": [
    "cvres = grid_search.cv_results_\n",
    "for mean_score, params in zip(cvres[\"mean_test_score\"], cvres[\"params\"]):\n",
    "    print(np.sqrt(-mean_score), params)"
   ]
  },
  {
   "cell_type": "markdown",
   "metadata": {},
   "source": [
    "Next, I re-tested the original KNN model with the optimal hyperparameters to assess the model accuracy."
   ]
  },
  {
   "cell_type": "code",
   "execution_count": 65,
   "metadata": {},
   "outputs": [
    {
     "data": {
      "text/plain": [
       "0.8334147532975086"
      ]
     },
     "execution_count": 65,
     "metadata": {},
     "output_type": "execute_result"
    }
   ],
   "source": [
    "clf_knn = KNeighborsClassifier(n_neighbors=35)\n",
    "clf_knn.fit(X_train_prepared,y_train)\n",
    "clf_knn.score(X_test_prepared,y_test)"
   ]
  },
  {
   "cell_type": "markdown",
   "metadata": {},
   "source": [
    "The optimal hyperparameters slightly improved the model. Next, I assessed the classification report and plotted the confusion matrix."
   ]
  },
  {
   "cell_type": "code",
   "execution_count": 66,
   "metadata": {},
   "outputs": [
    {
     "data": {
      "text/plain": [
       "array([[16557,  1906],\n",
       "       [ 2523,  3577]])"
      ]
     },
     "execution_count": 66,
     "metadata": {},
     "output_type": "execute_result"
    }
   ],
   "source": [
    "confusion_matrix(y_train, y_train_pred)"
   ]
  },
  {
   "cell_type": "code",
   "execution_count": 67,
   "metadata": {},
   "outputs": [
    {
     "name": "stdout",
     "output_type": "stream",
     "text": [
      "              precision    recall  f1-score   support\n",
      "\n",
      "           0       0.87      0.90      0.88     18463\n",
      "           1       0.65      0.59      0.62      6100\n",
      "\n",
      "    accuracy                           0.82     24563\n",
      "   macro avg       0.76      0.74      0.75     24563\n",
      "weighted avg       0.81      0.82      0.82     24563\n",
      "\n"
     ]
    }
   ],
   "source": [
    "print(classification_report(y_train, y_train_pred))"
   ]
  },
  {
   "cell_type": "code",
   "execution_count": 69,
   "metadata": {},
   "outputs": [
    {
     "data": {
      "text/plain": [
       "<sklearn.metrics._plot.confusion_matrix.ConfusionMatrixDisplay at 0x7fa729c8de80>"
      ]
     },
     "execution_count": 69,
     "metadata": {},
     "output_type": "execute_result"
    },
    {
     "data": {
      "image/png": "[encoded data removed]",
      "text/plain": [
       "<Figure size 432x288 with 2 Axes>"
      ]
     },
     "metadata": {
      "needs_background": "light"
     },
     "output_type": "display_data"
    }
   ],
   "source": [
    "from sklearn.metrics import plot_confusion_matrix\n",
    "x_test_prepared = full_pipeline.transform(x_test)\n",
    "plot_confusion_matrix(clf_knn, X_test_prepared, y_test, values_format='d', \n",
    "                      display_labels=['less than 50k','more than 50k'])"
   ]
  },
  {
   "cell_type": "markdown",
   "metadata": {},
   "source": [
    "This model did not do a particularly good job so I will test support vector machines to potentially generate a more accurate model."
   ]
  },
  {
   "cell_type": "markdown",
   "metadata": {},
   "source": [
    "## SVM"
   ]
  },
  {
   "cell_type": "code",
   "execution_count": 114,
   "metadata": {},
   "outputs": [],
   "source": [
    "from sklearn.svm import SVC"
   ]
  },
  {
   "cell_type": "markdown",
   "metadata": {},
   "source": [
    "SVMs do better with smaller data so I will resample the original dataset with an equal number of rows from each outcome of the income prediction."
   ]
  },
  {
   "cell_type": "code",
   "execution_count": 115,
   "metadata": {},
   "outputs": [],
   "source": [
    "# need to downsample since SVC cannot handle large datasets\n",
    "# 1000 rows for <=50K and 1000 rows for >50K\n",
    "\n",
    "df_more = adult_df[adult_df.income==1]\n",
    "df_less = adult_df[adult_df.income==0]\n",
    "\n",
    "from sklearn.utils import resample\n",
    "df_less_downsampled = resample(df_less, replace=False, n_samples=2000, random_state=42)\n",
    "df_more_downsampled = resample(df_more, replace=False, n_samples=2000, random_state=42)\n",
    "df_downsampled = pd.concat([df_less_downsampled, df_more_downsampled])"
   ]
  },
  {
   "cell_type": "markdown",
   "metadata": {},
   "source": [
    "As before, I will perform stratification of the train-test data split for the occupation feature. Then, I will scale numeric data and one-hot-encode categorical data."
   ]
  },
  {
   "cell_type": "code",
   "execution_count": 116,
   "metadata": {},
   "outputs": [],
   "source": [
    "split = StratifiedShuffleSplit(n_splits=1,test_size=0.2)\n",
    "for train_index, test_index in split.split(df_downsampled,df_downsampled['occupation']):\n",
    "    train_idx = df_downsampled.index[train_index]\n",
    "    test_idx = df_downsampled.index[test_index]\n",
    "    strat_train_set = df_downsampled.loc[train_idx]\n",
    "    strat_test_set = df_downsampled.loc[test_idx]\n",
    "    \n",
    "y_train = strat_train_set['income']\n",
    "y_test = strat_test_set['income']\n",
    "X_train = strat_train_set.drop(columns='income')\n",
    "X_test = strat_test_set.drop(columns='income')"
   ]
  },
  {
   "cell_type": "code",
   "execution_count": 117,
   "metadata": {},
   "outputs": [],
   "source": [
    "num_features = ['age','fnlwgt','education.num','hours.per.week']\n",
    "# include native.country below if not converting to domestic/foreign\n",
    "cat_features = ['workclass','education','marital.status','occupation','race','capital.gain']\n",
    "\n",
    "full_pipeline = ColumnTransformer([\n",
    "    (\"num\", StandardScaler(), num_features), \n",
    "    (\"cat\", OneHotEncoder(), cat_features),\n",
    "])\n",
    "\n",
    "X_train_prepared = full_pipeline.fit_transform(X_train)"
   ]
  },
  {
   "cell_type": "code",
   "execution_count": 128,
   "metadata": {},
   "outputs": [
    {
     "data": {
      "text/plain": [
       "<sklearn.metrics._plot.confusion_matrix.ConfusionMatrixDisplay at 0x7fcd334db760>"
      ]
     },
     "execution_count": 128,
     "metadata": {},
     "output_type": "execute_result"
    },
    {
     "data": {
      "image/png": "[encoded data removed]",
      "text/plain": [
       "<Figure size 432x288 with 2 Axes>"
      ]
     },
     "metadata": {
      "needs_background": "light"
     },
     "output_type": "display_data"
    }
   ],
   "source": [
    "clf_svm = SVC()\n",
    "clf_svm.fit(X_train_prepared,y_train)\n",
    "\n",
    "from sklearn.metrics import plot_confusion_matrix\n",
    "X_test_prepared = full_pipeline.transform(X_test)\n",
    "plot_confusion_matrix(clf_svm, X_test_prepared, y_test, values_format='d', display_labels=['less than 50k','more than 50k'])"
   ]
  },
  {
   "cell_type": "markdown",
   "metadata": {},
   "source": [
    "Wow! This model already improves significantly over the KNN model.  I will see if a grid search with cross-validation will improve the model further."
   ]
  },
  {
   "cell_type": "code",
   "execution_count": 119,
   "metadata": {},
   "outputs": [
    {
     "data": {
      "text/plain": [
       "{'C': 100, 'gamma': 0.01, 'kernel': 'rbf'}"
      ]
     },
     "execution_count": 119,
     "metadata": {},
     "output_type": "execute_result"
    }
   ],
   "source": [
    "from sklearn.model_selection import GridSearchCV\n",
    "param_grid = [\n",
    "    {'C': [0.5, 1, 10, 100], \n",
    "     'gamma': ['scale', 1, 0.1, 0.01, 0.001, 0.0001], \n",
    "     'kernel': ['rbf']},\n",
    "]\n",
    "\n",
    "clf_svm = SVC()\n",
    "grid_search = GridSearchCV(clf_svm, param_grid, cv=5, scoring='accuracy',\n",
    "                           return_train_score=True) \n",
    "grid_search.fit(X_train_prepared, y_train)\n",
    "grid_search.best_params_"
   ]
  },
  {
   "cell_type": "code",
   "execution_count": 122,
   "metadata": {},
   "outputs": [
    {
     "data": {
      "text/plain": [
       "<sklearn.metrics._plot.confusion_matrix.ConfusionMatrixDisplay at 0x7fcd334e9e50>"
      ]
     },
     "execution_count": 122,
     "metadata": {},
     "output_type": "execute_result"
    },
    {
     "data": {
      "image/png": "[encoded data removed]",
      "text/plain": [
       "<Figure size 432x288 with 2 Axes>"
      ]
     },
     "metadata": {
      "needs_background": "light"
     },
     "output_type": "display_data"
    }
   ],
   "source": [
    "clf_svm = SVC(C=100, gamma=0.01, kernel='rbf')\n",
    "clf_svm.fit(X_train_prepared,y_train)\n",
    "plot_confusion_matrix(clf_svm, X_test_prepared, y_test, values_format='d', display_labels=['less than 50k','more than 50k'])"
   ]
  },
  {
   "cell_type": "markdown",
   "metadata": {},
   "source": [
    "The grid search did not affect accuracy much.  However, overall the model makes accurate decisions with a high precision and recall according to the classification report below.  "
   ]
  },
  {
   "cell_type": "code",
   "execution_count": 123,
   "metadata": {},
   "outputs": [
    {
     "name": "stdout",
     "output_type": "stream",
     "text": [
      "              precision    recall  f1-score   support\n",
      "\n",
      "           0       0.84      0.77      0.80      1572\n",
      "           1       0.79      0.86      0.82      1628\n",
      "\n",
      "    accuracy                           0.81      3200\n",
      "   macro avg       0.81      0.81      0.81      3200\n",
      "weighted avg       0.81      0.81      0.81      3200\n",
      "\n"
     ]
    }
   ],
   "source": [
    "y_train_pred = cross_val_predict(clf_svm, X_train_prepared, y_train, cv=10)\n",
    "print(classification_report(y_train, y_train_pred))"
   ]
  },
  {
   "cell_type": "markdown",
   "metadata": {},
   "source": [
    "Now, let's see how the model performs on the entire dataset."
   ]
  },
  {
   "cell_type": "code",
   "execution_count": 135,
   "metadata": {},
   "outputs": [
    {
     "data": {
      "text/plain": [
       "<sklearn.metrics._plot.confusion_matrix.ConfusionMatrixDisplay at 0x7fcd334c0d60>"
      ]
     },
     "execution_count": 135,
     "metadata": {},
     "output_type": "execute_result"
    },
    {
     "data": {
      "image/png": "[encoded data removed]",
      "text/plain": [
       "<Figure size 432x288 with 2 Axes>"
      ]
     },
     "metadata": {
      "needs_background": "light"
     },
     "output_type": "display_data"
    }
   ],
   "source": [
    "X = adult_df.drop(columns='income')\n",
    "X_prepared = full_pipeline.transform(X)\n",
    "y = adult_df.income\n",
    "plot_confusion_matrix(clf_svm, X_prepared, y, values_format='d', display_labels=['less than 50k','more than 50k'])"
   ]
  },
  {
   "cell_type": "markdown",
   "metadata": {},
   "source": [
    "This resulted in very high precision and recall! Although there is some training data in here that could skew the results, the overwhelming majority of the data was not used to train the model.  In my first data science project, I further developed my skills in data science to properly clean data and fit an optimal model to make accurate predictions. "
   ]
  }
 ],
 "metadata": {
  "kernelspec": {
   "display_name": "Python 3",
   "language": "python",
   "name": "python3"
  },
  "language_info": {
   "codemirror_mode": {
    "name": "ipython",
    "version": 3
   },
   "file_extension": ".py",
   "mimetype": "text/x-python",
   "name": "python",
   "nbconvert_exporter": "python",
   "pygments_lexer": "ipython3",
   "version": "3.8.5"
  }
 },
 "nbformat": 4,
 "nbformat_minor": 4
}
